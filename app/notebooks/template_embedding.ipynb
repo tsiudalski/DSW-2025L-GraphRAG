{
 "cells": [
  {
   "cell_type": "code",
   "execution_count": 38,
   "metadata": {},
   "outputs": [],
   "source": [
    "import gensim.downloader as api\n",
    "from embedding_utils import get_sentence_embedding, cos_sim\n",
    "import json\n",
    "import numpy as np"
   ]
  },
  {
   "cell_type": "code",
   "execution_count": 3,
   "metadata": {},
   "outputs": [],
   "source": [
    "word_vectors = api.load(\"glove-wiki-gigaword-100\")"
   ]
  },
  {
   "cell_type": "code",
   "execution_count": 5,
   "metadata": {},
   "outputs": [],
   "source": [
    "q1 = \"What is the average temperature measured by a specific device within a given time range, along with the device type and measurement unit?\"\n",
    "q2 = \"How many devices of each type are present on a specific floor?\""
   ]
  },
  {
   "cell_type": "code",
   "execution_count": 26,
   "metadata": {},
   "outputs": [],
   "source": [
    "q = get_sentence_embedding(\"How many floor\", word_vectors)\n",
    "query_embedding1 = get_sentence_embedding(q1, word_vectors)\n",
    "query_embedding2 = get_sentence_embedding(q2, word_vectors)\n",
    "emb_list = [query_embedding1, query_embedding2]"
   ]
  },
  {
   "cell_type": "code",
   "execution_count": 49,
   "metadata": {},
   "outputs": [],
   "source": [
    "with open('question_template.json', 'r') as file:\n",
    "    pairs = json.load(file)"
   ]
  },
  {
   "cell_type": "code",
   "execution_count": null,
   "metadata": {},
   "outputs": [
    {
     "data": {
      "text/plain": [
       "'template2'"
      ]
     },
     "execution_count": 51,
     "metadata": {},
     "output_type": "execute_result"
    }
   ],
   "source": [
    "best_sim = np.argmax([cos_sim(q, emb) for emb in list(pairs.values())])\n",
    "list(pairs.keys())[best_sim]"
   ]
  }
 ],
 "metadata": {
  "kernelspec": {
   "display_name": "base",
   "language": "python",
   "name": "python3"
  },
  "language_info": {
   "codemirror_mode": {
    "name": "ipython",
    "version": 3
   },
   "file_extension": ".py",
   "mimetype": "text/x-python",
   "name": "python",
   "nbconvert_exporter": "python",
   "pygments_lexer": "ipython3",
   "version": "3.12.3"
  }
 },
 "nbformat": 4,
 "nbformat_minor": 2
}
